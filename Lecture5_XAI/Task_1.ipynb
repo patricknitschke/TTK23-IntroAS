{
 "cells": [
  {
   "cell_type": "code",
   "execution_count": 20,
   "metadata": {},
   "outputs": [],
   "source": [
    "import numpy as np\n",
    "import pandas as pd\n",
    "import tensorflow as tf\n",
    "from tensorflow.keras import Sequential\n",
    "from tensorflow.keras.layers import Dense\n",
    "from tensorflow.keras.optimizers import Adam\n",
    "from sklearn.model_selection import train_test_split\n",
    "from sklearn.datasets import load_boston\n",
    "from sklearn.preprocessing import StandardScaler\n",
    "import matplotlib.pyplot as plt\n",
    "import xgboost as xgb"
   ]
  },
  {
   "cell_type": "code",
   "execution_count": 4,
   "metadata": {},
   "outputs": [],
   "source": [
    "def mse(y,yhat):\n",
    "    try:\n",
    "        n = len(y)\n",
    "    except TypeError:\n",
    "        n = y.shape[0]\n",
    "    return (1/n)*sum([(_y-_yhat)**2 for _y, _yhat in zip(y,yhat)])"
   ]
  },
  {
   "cell_type": "markdown",
   "metadata": {},
   "source": [
    "##### Hi there! The ### mean that you have to fill in the code. Have fun :-)\n",
    "##### Also, you don't have to use the stuff below. It's only here to get you going, in case you need it."
   ]
  },
  {
   "cell_type": "code",
   "execution_count": 5,
   "metadata": {},
   "outputs": [],
   "source": [
    "# Get data\n",
    "boston = load_boston()\n",
    "\n",
    "boston_dataset = pd.DataFrame(boston.data, columns=boston.feature_names)\n",
    "boston_dataset[\"MEDV\"] =  boston.target\n",
    "\n",
    "# Use only a subset of features for computation time and brain power (Rooms, age, tax, crime rate, pupil teacher ratio)\n",
    "features_to_use = [\"RM\", \"AGE\", \"TAX\", \"CRIM\", \"PTRATIO\"]\n",
    "x_data = boston_dataset[features_to_use]\n",
    "y_data = boston_dataset.MEDV\n",
    "\n",
    "x_train, x_notrain, y_train, y_notrain = train_test_split(x_data, y_data, test_size=0.2, random_state=42)\n",
    "x_val, x_test, y_val, y_test = train_test_split(x_notrain, y_notrain, test_size=0.5, random_state=42)"
   ]
  },
  {
   "cell_type": "code",
   "execution_count": 15,
   "metadata": {},
   "outputs": [
    {
     "data": {
      "text/plain": [
       "XGBRegressor(base_score=0.5, booster='gbtree', colsample_bylevel=1,\n",
       "             colsample_bynode=1, colsample_bytree=1, enable_categorical=False,\n",
       "             gamma=0, gpu_id=-1, importance_type=None,\n",
       "             interaction_constraints='', learning_rate=0.300000012,\n",
       "             max_delta_step=0, max_depth=6, min_child_weight=1, missing=nan,\n",
       "             monotone_constraints='()', n_estimators=100, n_jobs=12,\n",
       "             num_parallel_tree=1, objective='reg:squarederror',\n",
       "             predictor='auto', random_state=0, reg_alpha=0, reg_lambda=1,\n",
       "             scale_pos_weight=1, subsample=1, tree_method='exact',\n",
       "             validate_parameters=1, verbosity=None)"
      ]
     },
     "execution_count": 15,
     "metadata": {},
     "output_type": "execute_result"
    }
   ],
   "source": [
    "# Instantiate and fit XGBoost model\n",
    "regressor =  xgb.XGBRegressor(objective ='reg:linear', colsample_bytree = 0.3, learning_rate = 0.1,\n",
    "                max_depth = 5, alpha = 10, n_estimators = 10)\n",
    "\n",
    "regressor =  xgb.XGBRegressor()\n",
    "\n",
    "regressor.fit(x_train, y_train)"
   ]
  },
  {
   "cell_type": "code",
   "execution_count": 16,
   "metadata": {},
   "outputs": [
    {
     "data": {
      "image/png": "[encoded data removed]",
      "text/plain": [
       "<Figure size 432x288 with 1 Axes>"
      ]
     },
     "metadata": {
      "needs_background": "light"
     },
     "output_type": "display_data"
    },
    {
     "name": "stdout",
     "output_type": "stream",
     "text": [
      "Mean squared error:  8.789421318435156\n",
      "Mean y_test:  21.029411764705884\n"
     ]
    }
   ],
   "source": [
    "# Predict using XGBoost model and plot prediction vs true labels\n",
    "y_pred_xgb = regressor.predict(x_test)\n",
    "\n",
    "plt.scatter(y_pred_xgb, y_test)\n",
    "plt.plot([5,45],[5,45])\n",
    "plt.xlabel(r\"$y_{pred}$\")\n",
    "plt.ylabel(r\"$y_{true}$\")\n",
    "plt.title(\"XGBoost prediction vs target\")\n",
    "plt.show()\n",
    "\n",
    "print(\"Mean squared error: \", mse(y_test, y_pred_xgb))\n",
    "print(\"Mean y_test: \", np.mean(y_test))"
   ]
  },
  {
   "cell_type": "code",
   "execution_count": 62,
   "metadata": {},
   "outputs": [
    {
     "name": "stdout",
     "output_type": "stream",
     "text": [
      "Model: \"sequential_18\"\n",
      "_________________________________________________________________\n",
      "Layer (type)                 Output Shape              Param #   \n",
      "=================================================================\n",
      "dense_55 (Dense)             (None, 8)                 48        \n",
      "_________________________________________________________________\n",
      "dense_56 (Dense)             (None, 4)                 36        \n",
      "_________________________________________________________________\n",
      "dense_57 (Dense)             (None, 1)                 5         \n",
      "=================================================================\n",
      "Total params: 89\n",
      "Trainable params: 89\n",
      "Non-trainable params: 0\n",
      "_________________________________________________________________\n",
      "Epoch 1/100\n",
      "7/7 [==============================] - 1s 33ms/step - loss: 598.1171 - accuracy: 0.0000e+00 - val_loss: 526.0081 - val_accuracy: 0.0000e+00\n",
      "Epoch 2/100\n",
      "7/7 [==============================] - 0s 8ms/step - loss: 582.9400 - accuracy: 0.0000e+00 - val_loss: 503.5095 - val_accuracy: 0.0000e+00\n",
      "Epoch 3/100\n",
      "7/7 [==============================] - 0s 8ms/step - loss: 560.3318 - accuracy: 0.0000e+00 - val_loss: 470.7041 - val_accuracy: 0.0000e+00\n",
      "Epoch 4/100\n",
      "7/7 [==============================] - 0s 9ms/step - loss: 528.0839 - accuracy: 0.0000e+00 - val_loss: 427.2356 - val_accuracy: 0.0000e+00\n",
      "Epoch 5/100\n",
      "7/7 [==============================] - 0s 7ms/step - loss: 484.9212 - accuracy: 0.0000e+00 - val_loss: 370.2999 - val_accuracy: 0.0000e+00\n",
      "Epoch 6/100\n",
      "7/7 [==============================] - 0s 10ms/step - loss: 428.1163 - accuracy: 0.0000e+00 - val_loss: 300.7105 - val_accuracy: 0.0000e+00\n",
      "Epoch 7/100\n",
      "7/7 [==============================] - 0s 7ms/step - loss: 356.8651 - accuracy: 0.0000e+00 - val_loss: 223.2689 - val_accuracy: 0.0000e+00\n",
      "Epoch 8/100\n",
      "7/7 [==============================] - 0s 7ms/step - loss: 270.5641 - accuracy: 0.0000e+00 - val_loss: 151.2326 - val_accuracy: 0.0000e+00\n",
      "Epoch 9/100\n",
      "7/7 [==============================] - 0s 7ms/step - loss: 185.3329 - accuracy: 0.0000e+00 - val_loss: 101.1631 - val_accuracy: 0.0000e+00\n",
      "Epoch 10/100\n",
      "7/7 [==============================] - 0s 7ms/step - loss: 121.9654 - accuracy: 0.0000e+00 - val_loss: 83.6735 - val_accuracy: 0.0000e+00\n",
      "Epoch 11/100\n",
      "7/7 [==============================] - 0s 6ms/step - loss: 86.4609 - accuracy: 0.0000e+00 - val_loss: 74.5770 - val_accuracy: 0.0000e+00\n",
      "Epoch 12/100\n",
      "7/7 [==============================] - 0s 6ms/step - loss: 65.9826 - accuracy: 0.0000e+00 - val_loss: 58.4574 - val_accuracy: 0.0000e+00\n",
      "Epoch 13/100\n",
      "7/7 [==============================] - 0s 6ms/step - loss: 48.1638 - accuracy: 0.0000e+00 - val_loss: 45.1859 - val_accuracy: 0.0000e+00\n",
      "Epoch 14/100\n",
      "7/7 [==============================] - 0s 7ms/step - loss: 37.4876 - accuracy: 0.0000e+00 - val_loss: 39.1945 - val_accuracy: 0.0000e+00\n",
      "Epoch 15/100\n",
      "7/7 [==============================] - 0s 7ms/step - loss: 32.3980 - accuracy: 0.0000e+00 - val_loss: 36.6166 - val_accuracy: 0.0000e+00\n",
      "Epoch 16/100\n",
      "7/7 [==============================] - 0s 7ms/step - loss: 29.9694 - accuracy: 0.0000e+00 - val_loss: 34.3524 - val_accuracy: 0.0000e+00\n",
      "Epoch 17/100\n",
      "7/7 [==============================] - 0s 7ms/step - loss: 28.1133 - accuracy: 0.0000e+00 - val_loss: 33.2598 - val_accuracy: 0.0000e+00\n",
      "Epoch 18/100\n",
      "7/7 [==============================] - 0s 7ms/step - loss: 27.1567 - accuracy: 0.0000e+00 - val_loss: 32.6217 - val_accuracy: 0.0000e+00\n",
      "Epoch 19/100\n",
      "7/7 [==============================] - 0s 6ms/step - loss: 26.4749 - accuracy: 0.0000e+00 - val_loss: 31.8935 - val_accuracy: 0.0000e+00\n",
      "Epoch 20/100\n",
      "7/7 [==============================] - 0s 6ms/step - loss: 26.1634 - accuracy: 0.0000e+00 - val_loss: 31.9817 - val_accuracy: 0.0000e+00\n",
      "Epoch 21/100\n",
      "7/7 [==============================] - 0s 6ms/step - loss: 25.7079 - accuracy: 0.0000e+00 - val_loss: 32.1094 - val_accuracy: 0.0000e+00\n",
      "Epoch 22/100\n",
      "7/7 [==============================] - 0s 5ms/step - loss: 25.4961 - accuracy: 0.0000e+00 - val_loss: 32.2651 - val_accuracy: 0.0000e+00\n",
      "Epoch 23/100\n",
      "7/7 [==============================] - 0s 6ms/step - loss: 25.3314 - accuracy: 0.0000e+00 - val_loss: 32.1784 - val_accuracy: 0.0000e+00\n",
      "Epoch 24/100\n",
      "7/7 [==============================] - 0s 7ms/step - loss: 25.1878 - accuracy: 0.0000e+00 - val_loss: 32.0561 - val_accuracy: 0.0000e+00\n",
      "Epoch 25/100\n",
      "7/7 [==============================] - 0s 5ms/step - loss: 25.0750 - accuracy: 0.0000e+00 - val_loss: 31.9999 - val_accuracy: 0.0000e+00\n",
      "Epoch 26/100\n",
      "7/7 [==============================] - 0s 6ms/step - loss: 25.1639 - accuracy: 0.0000e+00 - val_loss: 31.6883 - val_accuracy: 0.0000e+00\n",
      "Epoch 27/100\n",
      "7/7 [==============================] - 0s 5ms/step - loss: 25.1269 - accuracy: 0.0000e+00 - val_loss: 31.7785 - val_accuracy: 0.0000e+00\n",
      "Epoch 28/100\n",
      "7/7 [==============================] - 0s 5ms/step - loss: 24.8056 - accuracy: 0.0000e+00 - val_loss: 32.1064 - val_accuracy: 0.0000e+00\n",
      "Epoch 29/100\n",
      "7/7 [==============================] - 0s 6ms/step - loss: 24.7890 - accuracy: 0.0000e+00 - val_loss: 32.4406 - val_accuracy: 0.0000e+00\n",
      "Epoch 30/100\n",
      "7/7 [==============================] - 0s 6ms/step - loss: 24.7222 - accuracy: 0.0000e+00 - val_loss: 32.3581 - val_accuracy: 0.0000e+00\n",
      "Epoch 31/100\n",
      "7/7 [==============================] - 0s 5ms/step - loss: 24.5690 - accuracy: 0.0000e+00 - val_loss: 31.9694 - val_accuracy: 0.0000e+00\n",
      "Epoch 32/100\n",
      "7/7 [==============================] - 0s 6ms/step - loss: 24.6985 - accuracy: 0.0000e+00 - val_loss: 31.5784 - val_accuracy: 0.0000e+00\n",
      "Epoch 33/100\n",
      "7/7 [==============================] - 0s 6ms/step - loss: 24.6538 - accuracy: 0.0000e+00 - val_loss: 31.5307 - val_accuracy: 0.0000e+00\n",
      "Epoch 34/100\n",
      "7/7 [==============================] - 0s 6ms/step - loss: 24.5021 - accuracy: 0.0000e+00 - val_loss: 31.5996 - val_accuracy: 0.0000e+00\n",
      "Epoch 35/100\n",
      "7/7 [==============================] - 0s 6ms/step - loss: 24.3102 - accuracy: 0.0000e+00 - val_loss: 31.9271 - val_accuracy: 0.0000e+00\n",
      "Epoch 36/100\n",
      "7/7 [==============================] - 0s 5ms/step - loss: 24.4082 - accuracy: 0.0000e+00 - val_loss: 32.0176 - val_accuracy: 0.0000e+00\n",
      "Epoch 37/100\n",
      "7/7 [==============================] - 0s 9ms/step - loss: 24.2905 - accuracy: 0.0000e+00 - val_loss: 31.7820 - val_accuracy: 0.0000e+00\n",
      "Epoch 38/100\n",
      "7/7 [==============================] - 0s 4ms/step - loss: 24.2627 - accuracy: 0.0000e+00 - val_loss: 32.1211 - val_accuracy: 0.0000e+00\n",
      "Epoch 39/100\n",
      "7/7 [==============================] - 0s 5ms/step - loss: 24.1021 - accuracy: 0.0000e+00 - val_loss: 31.9717 - val_accuracy: 0.0000e+00\n",
      "Epoch 40/100\n",
      "7/7 [==============================] - 0s 6ms/step - loss: 24.0805 - accuracy: 0.0000e+00 - val_loss: 32.0369 - val_accuracy: 0.0000e+00\n",
      "Epoch 41/100\n",
      "7/7 [==============================] - 0s 8ms/step - loss: 24.0412 - accuracy: 0.0000e+00 - val_loss: 31.6604 - val_accuracy: 0.0000e+00\n",
      "Epoch 42/100\n",
      "7/7 [==============================] - 0s 5ms/step - loss: 24.0036 - accuracy: 0.0000e+00 - val_loss: 31.6246 - val_accuracy: 0.0000e+00\n",
      "Epoch 43/100\n",
      "7/7 [==============================] - 0s 6ms/step - loss: 23.9921 - accuracy: 0.0000e+00 - val_loss: 31.9236 - val_accuracy: 0.0000e+00\n",
      "Epoch 44/100\n",
      "7/7 [==============================] - 0s 4ms/step - loss: 23.9082 - accuracy: 0.0000e+00 - val_loss: 31.8984 - val_accuracy: 0.0000e+00\n",
      "Epoch 45/100\n",
      "7/7 [==============================] - 0s 7ms/step - loss: 24.0089 - accuracy: 0.0000e+00 - val_loss: 32.0762 - val_accuracy: 0.0000e+00\n",
      "Epoch 46/100\n",
      "7/7 [==============================] - 0s 5ms/step - loss: 23.8438 - accuracy: 0.0000e+00 - val_loss: 31.6209 - val_accuracy: 0.0000e+00\n",
      "Epoch 47/100\n",
      "7/7 [==============================] - 0s 5ms/step - loss: 23.8363 - accuracy: 0.0000e+00 - val_loss: 31.6353 - val_accuracy: 0.0000e+00\n",
      "Epoch 48/100\n",
      "7/7 [==============================] - 0s 5ms/step - loss: 23.8068 - accuracy: 0.0000e+00 - val_loss: 32.0232 - val_accuracy: 0.0000e+00\n",
      "Epoch 49/100\n",
      "7/7 [==============================] - 0s 8ms/step - loss: 23.8998 - accuracy: 0.0000e+00 - val_loss: 31.8186 - val_accuracy: 0.0000e+00\n",
      "Epoch 50/100\n",
      "7/7 [==============================] - 0s 7ms/step - loss: 23.7668 - accuracy: 0.0000e+00 - val_loss: 32.3983 - val_accuracy: 0.0000e+00\n",
      "Epoch 51/100\n",
      "7/7 [==============================] - 0s 7ms/step - loss: 23.7218 - accuracy: 0.0000e+00 - val_loss: 32.0693 - val_accuracy: 0.0000e+00\n",
      "Epoch 52/100\n",
      "7/7 [==============================] - 0s 5ms/step - loss: 23.6874 - accuracy: 0.0000e+00 - val_loss: 31.8230 - val_accuracy: 0.0000e+00\n",
      "Epoch 53/100\n",
      "7/7 [==============================] - 0s 6ms/step - loss: 23.5993 - accuracy: 0.0000e+00 - val_loss: 31.9798 - val_accuracy: 0.0000e+00\n",
      "Epoch 54/100\n",
      "7/7 [==============================] - 0s 6ms/step - loss: 23.5314 - accuracy: 0.0000e+00 - val_loss: 32.0171 - val_accuracy: 0.0000e+00\n",
      "Epoch 55/100\n",
      "7/7 [==============================] - 0s 7ms/step - loss: 23.5410 - accuracy: 0.0000e+00 - val_loss: 31.9689 - val_accuracy: 0.0000e+00\n",
      "Epoch 56/100\n",
      "7/7 [==============================] - 0s 6ms/step - loss: 23.4904 - accuracy: 0.0000e+00 - val_loss: 31.6433 - val_accuracy: 0.0000e+00\n",
      "Epoch 57/100\n",
      "7/7 [==============================] - 0s 5ms/step - loss: 23.6386 - accuracy: 0.0000e+00 - val_loss: 31.4511 - val_accuracy: 0.0000e+00\n",
      "Epoch 58/100\n",
      "7/7 [==============================] - 0s 7ms/step - loss: 23.5625 - accuracy: 0.0000e+00 - val_loss: 31.5878 - val_accuracy: 0.0000e+00\n",
      "Epoch 59/100\n",
      "7/7 [==============================] - 0s 5ms/step - loss: 23.5201 - accuracy: 0.0000e+00 - val_loss: 32.1764 - val_accuracy: 0.0000e+00\n",
      "Epoch 60/100\n",
      "7/7 [==============================] - 0s 6ms/step - loss: 23.4726 - accuracy: 0.0000e+00 - val_loss: 32.2642 - val_accuracy: 0.0000e+00\n",
      "Epoch 61/100\n",
      "7/7 [==============================] - 0s 5ms/step - loss: 23.3970 - accuracy: 0.0000e+00 - val_loss: 31.9127 - val_accuracy: 0.0000e+00\n",
      "Epoch 62/100\n",
      "7/7 [==============================] - 0s 6ms/step - loss: 23.4299 - accuracy: 0.0000e+00 - val_loss: 31.7959 - val_accuracy: 0.0000e+00\n",
      "Epoch 63/100\n",
      "7/7 [==============================] - 0s 5ms/step - loss: 23.2989 - accuracy: 0.0000e+00 - val_loss: 31.9088 - val_accuracy: 0.0000e+00\n",
      "Epoch 64/100\n",
      "7/7 [==============================] - 0s 6ms/step - loss: 23.2762 - accuracy: 0.0000e+00 - val_loss: 31.7758 - val_accuracy: 0.0000e+00\n",
      "Epoch 65/100\n",
      "7/7 [==============================] - 0s 5ms/step - loss: 23.2896 - accuracy: 0.0000e+00 - val_loss: 32.0798 - val_accuracy: 0.0000e+00\n",
      "Epoch 66/100\n",
      "7/7 [==============================] - 0s 6ms/step - loss: 23.3732 - accuracy: 0.0000e+00 - val_loss: 32.4355 - val_accuracy: 0.0000e+00\n",
      "Epoch 67/100\n",
      "7/7 [==============================] - 0s 5ms/step - loss: 23.2617 - accuracy: 0.0000e+00 - val_loss: 32.0553 - val_accuracy: 0.0000e+00\n",
      "Epoch 68/100\n",
      "7/7 [==============================] - 0s 5ms/step - loss: 23.2271 - accuracy: 0.0000e+00 - val_loss: 31.9140 - val_accuracy: 0.0000e+00\n",
      "Epoch 69/100\n",
      "7/7 [==============================] - 0s 6ms/step - loss: 23.2545 - accuracy: 0.0000e+00 - val_loss: 31.8355 - val_accuracy: 0.0000e+00\n",
      "Epoch 70/100\n",
      "7/7 [==============================] - 0s 6ms/step - loss: 23.3078 - accuracy: 0.0000e+00 - val_loss: 31.6481 - val_accuracy: 0.0000e+00\n",
      "Epoch 71/100\n",
      "7/7 [==============================] - 0s 5ms/step - loss: 23.2059 - accuracy: 0.0000e+00 - val_loss: 31.8356 - val_accuracy: 0.0000e+00\n",
      "Epoch 72/100\n",
      "7/7 [==============================] - 0s 7ms/step - loss: 23.3054 - accuracy: 0.0000e+00 - val_loss: 32.2344 - val_accuracy: 0.0000e+00\n",
      "Epoch 73/100\n",
      "7/7 [==============================] - 0s 5ms/step - loss: 23.2871 - accuracy: 0.0000e+00 - val_loss: 31.8841 - val_accuracy: 0.0000e+00\n",
      "Epoch 74/100\n",
      "7/7 [==============================] - 0s 6ms/step - loss: 23.1864 - accuracy: 0.0000e+00 - val_loss: 31.6802 - val_accuracy: 0.0000e+00\n",
      "Epoch 75/100\n",
      "7/7 [==============================] - 0s 6ms/step - loss: 23.1578 - accuracy: 0.0000e+00 - val_loss: 32.0995 - val_accuracy: 0.0000e+00\n",
      "Epoch 76/100\n",
      "7/7 [==============================] - 0s 5ms/step - loss: 23.1550 - accuracy: 0.0000e+00 - val_loss: 32.0785 - val_accuracy: 0.0000e+00\n",
      "Epoch 77/100\n",
      "7/7 [==============================] - 0s 6ms/step - loss: 23.1187 - accuracy: 0.0000e+00 - val_loss: 32.0803 - val_accuracy: 0.0000e+00\n",
      "Epoch 78/100\n",
      "7/7 [==============================] - 0s 7ms/step - loss: 23.0676 - accuracy: 0.0000e+00 - val_loss: 31.9394 - val_accuracy: 0.0000e+00\n",
      "Epoch 79/100\n",
      "7/7 [==============================] - 0s 8ms/step - loss: 23.0860 - accuracy: 0.0000e+00 - val_loss: 31.9498 - val_accuracy: 0.0000e+00\n",
      "Epoch 80/100\n",
      "7/7 [==============================] - 0s 6ms/step - loss: 23.0908 - accuracy: 0.0000e+00 - val_loss: 31.9656 - val_accuracy: 0.0000e+00\n",
      "Epoch 81/100\n",
      "7/7 [==============================] - 0s 8ms/step - loss: 23.0499 - accuracy: 0.0000e+00 - val_loss: 31.8903 - val_accuracy: 0.0000e+00\n",
      "Epoch 82/100\n",
      "7/7 [==============================] - 0s 5ms/step - loss: 23.0930 - accuracy: 0.0000e+00 - val_loss: 32.0221 - val_accuracy: 0.0000e+00\n",
      "Epoch 83/100\n",
      "7/7 [==============================] - 0s 7ms/step - loss: 23.0590 - accuracy: 0.0000e+00 - val_loss: 31.9519 - val_accuracy: 0.0000e+00\n",
      "Epoch 84/100\n",
      "7/7 [==============================] - 0s 7ms/step - loss: 23.0515 - accuracy: 0.0000e+00 - val_loss: 31.8874 - val_accuracy: 0.0000e+00\n",
      "Epoch 85/100\n",
      "7/7 [==============================] - 0s 5ms/step - loss: 23.0369 - accuracy: 0.0000e+00 - val_loss: 31.9791 - val_accuracy: 0.0000e+00\n",
      "Epoch 86/100\n",
      "7/7 [==============================] - 0s 3ms/step - loss: 23.0966 - accuracy: 0.0000e+00 - val_loss: 32.2901 - val_accuracy: 0.0000e+00\n",
      "Epoch 87/100\n",
      "7/7 [==============================] - 0s 4ms/step - loss: 23.0637 - accuracy: 0.0000e+00 - val_loss: 31.7694 - val_accuracy: 0.0000e+00\n",
      "Epoch 88/100\n",
      "7/7 [==============================] - 0s 4ms/step - loss: 23.1552 - accuracy: 0.0000e+00 - val_loss: 31.6536 - val_accuracy: 0.0000e+00\n",
      "Epoch 89/100\n",
      "7/7 [==============================] - 0s 3ms/step - loss: 23.1070 - accuracy: 0.0000e+00 - val_loss: 32.1117 - val_accuracy: 0.0000e+00\n",
      "Epoch 90/100\n",
      "7/7 [==============================] - 0s 4ms/step - loss: 23.0460 - accuracy: 0.0000e+00 - val_loss: 32.3409 - val_accuracy: 0.0000e+00\n",
      "Epoch 91/100\n",
      "7/7 [==============================] - 0s 3ms/step - loss: 23.0258 - accuracy: 0.0000e+00 - val_loss: 31.8873 - val_accuracy: 0.0000e+00\n",
      "Epoch 92/100\n",
      "7/7 [==============================] - 0s 4ms/step - loss: 23.0485 - accuracy: 0.0000e+00 - val_loss: 31.6143 - val_accuracy: 0.0000e+00\n",
      "Epoch 93/100\n",
      "7/7 [==============================] - 0s 4ms/step - loss: 22.9202 - accuracy: 0.0000e+00 - val_loss: 31.8643 - val_accuracy: 0.0000e+00\n",
      "Epoch 94/100\n",
      "7/7 [==============================] - 0s 8ms/step - loss: 22.8986 - accuracy: 0.0000e+00 - val_loss: 32.0842 - val_accuracy: 0.0000e+00\n",
      "Epoch 95/100\n",
      "7/7 [==============================] - 0s 6ms/step - loss: 22.9193 - accuracy: 0.0000e+00 - val_loss: 31.8198 - val_accuracy: 0.0000e+00\n",
      "Epoch 96/100\n",
      "7/7 [==============================] - 0s 8ms/step - loss: 22.9385 - accuracy: 0.0000e+00 - val_loss: 31.5684 - val_accuracy: 0.0000e+00\n",
      "Epoch 97/100\n",
      "7/7 [==============================] - 0s 5ms/step - loss: 22.9770 - accuracy: 0.0000e+00 - val_loss: 31.6038 - val_accuracy: 0.0000e+00\n",
      "Epoch 98/100\n",
      "7/7 [==============================] - 0s 4ms/step - loss: 23.0186 - accuracy: 0.0000e+00 - val_loss: 31.8361 - val_accuracy: 0.0000e+00\n",
      "Epoch 99/100\n",
      "7/7 [==============================] - 0s 4ms/step - loss: 23.0913 - accuracy: 0.0000e+00 - val_loss: 32.2702 - val_accuracy: 0.0000e+00\n",
      "Epoch 100/100\n",
      "7/7 [==============================] - 0s 4ms/step - loss: 22.8912 - accuracy: 0.0000e+00 - val_loss: 32.3550 - val_accuracy: 0.0000e+00\n"
     ]
    }
   ],
   "source": [
    "# Neural networks usually require preprocessing. Try different things.\n",
    "scaler = StandardScaler()\n",
    "scaler.fit(x_train)\n",
    "x_train = scaler.transform(x_train)\n",
    "x_val = scaler.transform(x_val)\n",
    "x_test = scaler.transform(x_test)\n",
    "\n",
    "# Build and fit neural network model (this architecture is a bit random. Play around with it.)\n",
    "\n",
    "output_shape = 1 # regression\n",
    "epochs = 100\n",
    "\n",
    "### Add layers to the model\n",
    "model = Sequential(layers=[\n",
    "    tf.keras.Input(shape=(len(features_to_use),)),\n",
    "    Dense(8, activation=\"relu\"),\n",
    "    Dense(4, activation=\"relu\"),\n",
    "    Dense(output_shape, activation=\"linear\")\n",
    "])\n",
    "\n",
    "model.summary()\n",
    "model.compile(loss=\"mse\",\n",
    "              optimizer=Adam(learning_rate=1e-2),\n",
    "              metrics=[\"accuracy\"])\n",
    "\n",
    "### Fit the model (and record history if you like\n",
    "history = model.fit(x_train, y_train, validation_data=(x_val, y_val), batch_size=64, epochs=epochs)"
   ]
  },
  {
   "cell_type": "code",
   "execution_count": 63,
   "metadata": {},
   "outputs": [
    {
     "data": {
      "image/png": "[encoded data removed]",
      "text/plain": [
       "<Figure size 432x288 with 1 Axes>"
      ]
     },
     "metadata": {
      "needs_background": "light"
     },
     "output_type": "display_data"
    }
   ],
   "source": [
    "# Plot training history to see at which epoch training should stop \n",
    "# (usually when validation loss flattens out while training loss keeps decreasing)\n",
    "plt.plot(list(range(epochs)), history.history[\"loss\"], c=\"red\", label=\"Training data\")\n",
    "plt.plot(list(range(epochs)), history.history[\"val_loss\"], c=\"green\", label=\"Validation data\")\n",
    "plt.xlabel(\"Training epoch\")\n",
    "plt.ylabel(\"Loss\")\n",
    "plt.legend()\n",
    "plt.show()"
   ]
  },
  {
   "cell_type": "code",
   "execution_count": 64,
   "metadata": {},
   "outputs": [
    {
     "data": {
      "image/png": "[encoded data removed]",
      "text/plain": [
       "<Figure size 432x288 with 1 Axes>"
      ]
     },
     "metadata": {
      "needs_background": "light"
     },
     "output_type": "display_data"
    },
    {
     "name": "stdout",
     "output_type": "stream",
     "text": [
      "Mean squared error:  [11.732877]\n",
      "Mean y_test:  21.029411764705884\n"
     ]
    }
   ],
   "source": [
    "# Predict using neural network model and plot prediction vs true labels\n",
    "y_pred = model.predict(x_test)\n",
    "\n",
    "plt.scatter(y_pred, y_test)\n",
    "plt.plot([5,45],[5,45])\n",
    "plt.xlabel(r\"$y_{pred}$\")\n",
    "plt.ylabel(r\"$y_{true}$\")\n",
    "plt.title(\"Neural network prediction vs target\")\n",
    "plt.show()\n",
    "print(\"Mean squared error: \", mse(y_test, y_pred))\n",
    "print(\"Mean y_test: \", np.mean(y_test))"
   ]
  },
  {
   "cell_type": "code",
   "execution_count": 65,
   "metadata": {},
   "outputs": [
    {
     "name": "stdout",
     "output_type": "stream",
     "text": [
      "Model: \"sequential_18\"\n",
      "_________________________________________________________________\n",
      "Layer (type)                 Output Shape              Param #   \n",
      "=================================================================\n",
      "dense_55 (Dense)             (None, 8)                 48        \n",
      "_________________________________________________________________\n",
      "dense_56 (Dense)             (None, 4)                 36        \n",
      "_________________________________________________________________\n",
      "dense_57 (Dense)             (None, 1)                 5         \n",
      "=================================================================\n",
      "Total params: 89\n",
      "Trainable params: 89\n",
      "Non-trainable params: 0\n",
      "_________________________________________________________________\n"
     ]
    }
   ],
   "source": [
    "# Out of the box, XGBoost performs pretty well while the neural network can struggle.\n",
    "# Play around with the different layers and see if you can make a good architecture \n",
    "# that solves this regression task.\n",
    "model.summary()"
   ]
  }
 ],
 "metadata": {
  "kernelspec": {
   "display_name": "Python 3",
   "language": "python",
   "name": "python3"
  },
  "language_info": {
   "codemirror_mode": {
    "name": "ipython",
    "version": 3
   },
   "file_extension": ".py",
   "mimetype": "text/x-python",
   "name": "python",
   "nbconvert_exporter": "python",
   "pygments_lexer": "ipython3",
   "version": "3.8.12"
  }
 },
 "nbformat": 4,
 "nbformat_minor": 4
}
